{
 "cells": [
  {
   "cell_type": "code",
   "execution_count": 1,
   "id": "a7d84980",
   "metadata": {},
   "outputs": [],
   "source": [
    "import torch\n",
    "import torch.nn as nn\n",
    "import torch.nn.functional as F\n",
    "import torch.optim as optim \n",
    "from torchvision import datasets, transforms\n",
    "from torch.utils.data import DataLoader, Dataset \n",
    "import random \n",
    "import matplotlib.pyplot as plt "
   ]
  },
  {
   "cell_type": "code",
   "execution_count": 2,
   "id": "e9b33059",
   "metadata": {},
   "outputs": [],
   "source": [
    "class ContrastiveMNIST(Dataset):\n",
    "    def __init__(self, mnist_dataset):\n",
    "        self.data = mnist_dataset\n",
    "    def __getitem__(self, index):\n",
    "        img1, label1 = self.data[index]\n",
    "        should_match = random.randint(0, 1)\n",
    "\n",
    "        if should_match:\n",
    "            while True:\n",
    "                img2, label2 = self.data[random.randint(0, len(self.data) - 1)]\n",
    "                if label1 == label2:\n",
    "                    break\n",
    "        else:\n",
    "            while True:\n",
    "                img2, label2 = self.data[random.randint(0, len(self.data) - 1)]\n",
    "                if label1 != label2:\n",
    "                    break\n",
    "        return img1, img2, torch.tensor([int(label1 == label2)], dtype=torch.float32)\n",
    "\n",
    "    def __len__(self):\n",
    "        return len(self.data)"
   ]
  },
  {
   "cell_type": "code",
   "execution_count": 3,
   "id": "2f794342",
   "metadata": {},
   "outputs": [],
   "source": [
    "class SiameseNetwork(nn.Module):\n",
    "    def __init__(self):\n",
    "        super(SiameseNetwork, self).__init__()\n",
    "\n",
    "        self.convnet = nn.Sequential(\n",
    "            nn.Conv2d(1, 32, 5), nn.ReLU(),\n",
    "            nn.MaxPool2d(2),\n",
    "            nn.Conv2d(32, 64, 5), nn.ReLU(),\n",
    "            nn.MaxPool2d(2)\n",
    "        )\n",
    "        self.fc = nn.Sequential(\n",
    "            nn.Linear(64 * 4 * 4, 256),\n",
    "            nn.ReLU(),\n",
    "            nn.Linear(256, 128)\n",
    "        )\n",
    "\n",
    "    def forward_once(self, x):\n",
    "        x = self.convnet(x)\n",
    "        x = x.view(x.size(0), -1)\n",
    "        x = self.fc(x)\n",
    "        return x\n",
    "\n",
    "    def forward(self, x1, x2):\n",
    "        return self.forward_once(x1), self.forward_once(x2)\n"
   ]
  },
  {
   "cell_type": "code",
   "execution_count": 4,
   "id": "72531bba",
   "metadata": {},
   "outputs": [],
   "source": [
    "class ContrastiveLoss(nn.Module):\n",
    "    \n",
    "    def __init__(self, margin=1.0):\n",
    "        super(ContrastiveLoss, self).__init__()\n",
    "        self.margin = margin\n",
    "    def forward(self, output1, output2, label):\n",
    "        distance = F.pairwise_distance(output1, output2)\n",
    "        loss = label * torch.pow(distance, 2) + \\\n",
    "               (1 - label) * torch.pow(torch.clamp(self.margin - distance, min=0.0), 2)\n",
    "        return loss.mean()\n"
   ]
  },
  {
   "cell_type": "code",
   "execution_count": 5,
   "id": "e0b605e5",
   "metadata": {},
   "outputs": [],
   "source": [
    "transform = transforms.Compose([transforms.ToTensor()])\n",
    "train_mnist = datasets.MNIST(root='./data', train=True, download=True, transform=transform)\n",
    "train_dataset = ContrastiveMNIST(train_mnist)\n",
    "train_loader = DataLoader(train_dataset, shuffle=True, batch_size=64)"
   ]
  },
  {
   "cell_type": "code",
   "execution_count": null,
   "id": "3f154997",
   "metadata": {},
   "outputs": [
    {
     "name": "stdout",
     "output_type": "stream",
     "text": [
      "Epoch 1, Loss: 240.7031\n"
     ]
    }
   ],
   "source": [
    "device = torch.device(\"cuda\" if torch.cuda.is_available() else \"cpu\")\n",
    "model = SiameseNetwork().to(device)\n",
    "criterion = ContrastiveLoss()\n",
    "optimizer = optim.Adam(model.parameters(), lr=0.001)\n",
    "\n",
    "for epoch in range(5):\n",
    "    total_loss = 0\n",
    "    for img1, img2, label in train_loader:\n",
    "        img1, img2, label = img1.to(device), img2.to(device), label.to(device)\n",
    "        output1, output2 = model(img1, img2)\n",
    "        loss = criterion(output1, output2, label)\n",
    "        optimizer.zero_grad()\n",
    "        loss.backward()\n",
    "        optimizer.step()\n",
    "        total_loss += loss.item()\n",
    "    print(f\"Epoch {epoch+1}, Loss: {total_loss:.4f}\")\n",
    "\n"
   ]
  },
  {
   "cell_type": "code",
   "execution_count": null,
   "id": "d2ed58bf",
   "metadata": {},
   "outputs": [],
   "source": [
    "def show_pair(img1, img2, distance, label):\n",
    "    fig, ax = plt.subplots(1, 2)\n",
    "    ax[0].imshow(img1.squeeze(), cmap='gray')\n",
    "    ax[1].imshow(img2.squeeze(), cmap='gray')\n",
    "    plt.suptitle(f\"Distance: {distance:.2f} - {'Same' if label else 'Different'}\")\n",
    "    plt.show()\n",
    "\n",
    "test_img1, test_img2, test_label = train_dataset[0]\n",
    "with torch.no_grad():\n",
    "    e1, e2 = model(test_img1.unsqueeze(0).to(device), test_img2.unsqueeze(0).to(device))\n",
    "    dist = F.pairwise_distance(e1, e2).item()\n",
    "    show_pair(test_img1, test_img2, dist, test_label.item())"
   ]
  },
  {
   "cell_type": "code",
   "execution_count": null,
   "id": "34225c02",
   "metadata": {},
   "outputs": [],
   "source": []
  }
 ],
 "metadata": {
  "kernelspec": {
   "display_name": "Python 3 (ipykernel)",
   "language": "python",
   "name": "python3"
  },
  "language_info": {
   "codemirror_mode": {
    "name": "ipython",
    "version": 3
   },
   "file_extension": ".py",
   "mimetype": "text/x-python",
   "name": "python",
   "nbconvert_exporter": "python",
   "pygments_lexer": "ipython3",
   "version": "3.11.5"
  }
 },
 "nbformat": 4,
 "nbformat_minor": 5
}
